{
 "cells": [
  {
   "cell_type": "code",
   "execution_count": 1,
   "id": "53d056da-17bc-49b8-84f7-19ae6d7cab4a",
   "metadata": {
    "tags": []
   },
   "outputs": [],
   "source": [
    "# Importing standard Qiskit libraries\n",
    "from qiskit import QuantumCircuit, transpile\n",
    "from qiskit.tools.jupyter import *\n",
    "from qiskit.visualization import *\n",
    "# from ibm_quantum_widgets import *\n",
    "\n",
    "# qiskit-ibmq-provider has been deprecated.\n",
    "# Please see the Migration Guides in https://ibm.biz/provider_migration_guide for more detail.\n",
    "from qiskit_ibm_runtime import QiskitRuntimeService, Sampler, Estimator, Session, Options\n",
    "\n",
    "# Loading your IBM Quantum account(s)\n",
    "# service = QiskitRuntimeService(channel=\"ibm_quantum\")\n",
    "service = QiskitRuntimeService.save_account(channel=\"ibm_quantum\", overwrite=True, token=\"6e8e73f18c3c1bc4217e22bce7d03e39f64ba95164994c3356f8c6188d2eabc66e0062fadd5c039cd1bc4d9c6f803b2b964961bf126cc0df315929969555b5e8\")\n",
    "\n",
    "# Invoke a primitive. For more details see https://qiskit.org/documentation/partners/qiskit_ibm_runtime/tutorials.html\n",
    "# result = Sampler(\"ibmq_qasm_simulator\").run(circuits).result()"
   ]
  },
  {
   "cell_type": "code",
   "execution_count": 2,
   "id": "dd5791fe-fa66-4687-a712-ed0ea1b03982",
   "metadata": {
    "tags": []
   },
   "outputs": [
    {
     "name": "stderr",
     "output_type": "stream",
     "text": [
      "/var/folders/07/9l9kqd013xjdlz8_0b2__8xr0000gq/T/ipykernel_41662/1227636932.py:9: DeprecationWarning: The ``qiskit.opflow`` module is deprecated as of qiskit-terra 0.24.0. It will be removed no earlier than 3 months after the release date. For code migration guidelines, visit https://qisk.it/opflow_migration.\n",
      "  from qiskit.opflow import I, Z, X\n"
     ]
    }
   ],
   "source": [
    "#Useful imports: \n",
    "from qiskit.circuit.random import random_circuit\n",
    "from qiskit.quantum_info import Operator\n",
    "from qiskit import *\n",
    "import numpy as np\n",
    "from qiskit import QuantumCircuit, execute, BasicAer\n",
    "from qiskit.circuit import QuantumCircuit\n",
    "from qiskit.circuit.library import PauliEvolutionGate\n",
    "from qiskit.opflow import I, Z, X\n",
    "\n",
    "import matplotlib.pyplot as plt\n",
    "%matplotlib inline"
   ]
  },
  {
   "cell_type": "markdown",
   "id": "71b8f500-0ec7-4f83-9c78-e2de91f2c28a",
   "metadata": {
    "tags": []
   },
   "source": [
    " ## 3.1 Generate a random unitary U by generating a random circuit over $n=5$ qubits with depth$=3$\n",
    " You may use Qiskit's built-in function for random circuits: https://qiskit.org/documentation/stable/0.19/stubs/qiskit.circuit.random.random_circuit.html. \n",
    " Visualize your random circuit using **draw(output='mpl')**."
   ]
  },
  {
   "cell_type": "code",
   "execution_count": 3,
   "id": "292063f1-9e3a-443e-b5b6-81c7cde18e62",
   "metadata": {
    "tags": []
   },
   "outputs": [
    {
     "name": "stderr",
     "output_type": "stream",
     "text": [
      "/opt/homebrew/lib/python3.11/site-packages/qiskit/visualization/circuit/matplotlib.py:266: FutureWarning: The default matplotlib drawer scheme will be changed to \"iqp\" in a following release. To silence this warning, specify the current default explicitly as style=\"clifford\", or the new default as style=\"iqp\".\n",
      "  self._style, def_font_ratio = load_style(self._style)\n"
     ]
    },
    {
     "data": {
      "image/png": "[encoded data removed]",
      "text/plain": [
       "<Figure size 621.941x451.5 with 1 Axes>"
      ]
     },
     "execution_count": 3,
     "metadata": {},
     "output_type": "execute_result"
    }
   ],
   "source": [
    "# your code goes here\n",
    "circ = random_circuit(5, 3, measure=False)\n",
    "my_gate = circ.to_gate()\n",
    "controlled_x = my_gate.control()\n",
    "circ.draw(output='mpl')"
   ]
  },
  {
   "cell_type": "markdown",
   "id": "7f840cdc-0cbf-409b-a146-797ac7c64d97",
   "metadata": {
    "jp-MarkdownHeadingCollapsed": true,
    "tags": []
   },
   "source": [
    "## 3.2 Compute the trace of the generated random unitary classically. \n",
    "For a circuit U, you may use **Operator(U).data** to convert U into a numpy array."
   ]
  },
  {
   "cell_type": "code",
   "execution_count": 4,
   "id": "c8790682-8736-4f5e-8850-d9846c940e8d",
   "metadata": {
    "tags": []
   },
   "outputs": [
    {
     "name": "stdout",
     "output_type": "stream",
     "text": [
      "trace:  (-0.2753542770791947-0.2900336230759865j)\n",
      "real part:  -0.2753542770791947\n"
     ]
    }
   ],
   "source": [
    "trace = np.trace(Operator(circ).data)\n",
    "print(\"trace: \", trace)\n",
    "print(\"real part: \", trace.real)"
   ]
  },
  {
   "cell_type": "markdown",
   "id": "13c29db2-0bc0-4b4b-8214-93a9d98e13b4",
   "metadata": {
    "tags": []
   },
   "source": [
    "## 3.3 Build the circuit for estimating the real part of the trace of U. \n",
    "Hint: you may find the following useful: \n",
    "**.to_gate()** : https://qiskit.org/documentation/stable/0.39/stubs/qiskit.circuit.QuantumCircuit.to_gate.html\n",
    "\n",
    "**.control(..)**: https://qiskit.org/documentation/stubs/qiskit.circuit.ControlledGate.html\n",
    "\n",
    "**.append(..)**: https://qiskit.org/documentation/stable/0.19/stubs/qiskit.circuit.QuantumCircuit.append.html"
   ]
  },
  {
   "cell_type": "code",
   "execution_count": 10,
   "metadata": {},
   "outputs": [
    {
     "data": {
      "text/plain": [
       "<qiskit.circuit.instructionset.InstructionSet at 0x15eaaff10>"
      ]
     },
     "execution_count": 10,
     "metadata": {},
     "output_type": "execute_result"
    }
   ],
   "source": [
    "# create entangled pairs\n",
    "X = QuantumRegister(1, 'x')\n",
    "X1 = QuantumRegister(2, 'x1')\n",
    "X2 = QuantumRegister(2, 'x2')\n",
    "X3 = QuantumRegister(2, 'x3')\n",
    "X4 = QuantumRegister(2, 'x4')\n",
    "X5 = QuantumRegister(2, 'x5')\n",
    "\n",
    "A = ClassicalRegister(1, 'a')\n",
    "\n",
    "circuit = QuantumCircuit(X, X1, X2, X3, X4, X5, A)\n",
    "\n",
    "# add state vector |0> to X\n",
    "circuit.reset(X)\n",
    "circuit.reset(X1)\n",
    "circuit.reset(X2)\n",
    "circuit.reset(X3)\n",
    "circuit.reset(X4)\n",
    "circuit.reset(X5)\n",
    "circuit.barrier()\n",
    "\n",
    "\n",
    "circuit.h(X1[0])\n",
    "circuit.cx(X1[0], X1[1])\n",
    "\n",
    "circuit.h(X2[0])\n",
    "circuit.cx(X2[0], X2[1])\n",
    "\n",
    "circuit.h(X3[0])\n",
    "circuit.cx(X3[0], X3[1])\n",
    "\n",
    "circuit.h(X4[0])\n",
    "circuit.cx(X4[0], X4[1])\n",
    "\n",
    "circuit.h(X5[0])\n",
    "circuit.cx(X5[0], X5[1])\n",
    "\n",
    "circuit.barrier()\n",
    "circuit.h(X)\n",
    "\n",
    "circuit.append(controlled_x, [X[0], X1[0], X2[0], X3[0], X4[0], X5[0]])\n",
    "\n",
    "circuit.h(X)\n",
    "\n",
    "# circuit.measure(X, A)\n",
    "circuit.barrier()\n",
    "\n",
    "circuit.measure(X[0], A)\n",
    "# circuit.measure(X1[0], A)\n",
    "# circuit.measure(X2[0], A)\n",
    "# circuit.measure(X3[0], A)\n",
    "# circuit.measure(X4[0], A)\n",
    "# circuit.measure(X5[0], A)\n",
    "\n",
    "# circuit.draw(\"mpl\")\n",
    "# circuit.h(X[0])\n",
    "# circuit.cx(X[0], X[1])\n",
    "# # circuit.measure(X[0], A[0])\n",
    "# # circuit.measure(X[1], A[1])\n",
    "# circuit.draw(\"mpl\")"
   ]
  },
  {
   "cell_type": "markdown",
   "id": "77a1a436-7c37-4cfa-a006-40cd3d8ee2a7",
   "metadata": {},
   "source": [
    "#### Draw your estimation circuit: "
   ]
  },
  {
   "cell_type": "code",
   "execution_count": 8,
   "id": "ba59cdfe-4f84-408a-a433-ef5eb8d746d1",
   "metadata": {},
   "outputs": [
    {
     "data": {
      "image/png": "[encoded data removed]",
      "text/plain": [
       "<Figure size 1057.03x1036.78 with 1 Axes>"
      ]
     },
     "execution_count": 8,
     "metadata": {},
     "output_type": "execute_result"
    }
   ],
   "source": [
    "circuit.draw(output='mpl')"
   ]
  },
  {
   "cell_type": "markdown",
   "id": "48eb2c17-9db8-46fe-9bef-5acbcba5167e",
   "metadata": {},
   "source": [
    "#### Run your circuit using the 'qasm_simulator'.\n",
    "Compute the estimate of the trace of the real part from the circuit results.\n",
    "Compare your estimate with the one computed in question 3.2.\n",
    "You may change the number of shots till you obtain an accurate result."
   ]
  },
  {
   "cell_type": "code",
   "execution_count": null,
   "metadata": {},
   "outputs": [],
   "source": [
    "simulator = Aer.get_backend('qasm_simulator')\n",
    "nb_shots = 10000\n",
    "result = execute(circuit, simulator, shots=nb_shots).result()\n",
    "counts = result.get_counts(circuit)\n",
    "counts"
   ]
  },
  {
   "cell_type": "code",
   "execution_count": null,
   "metadata": {},
   "outputs": [],
   "source": [
    "real_part_trace = (counts['0']/nb_shots- 0.5) * 2**6\n",
    "print(\"quantum real part of trace: \", real_part_trace)\n",
    "print(\"np trace real: \",  trace.real)"
   ]
  },
  {
   "cell_type": "markdown",
   "id": "a32fdff0-c127-46fe-a1aa-4688f3f0b06e",
   "metadata": {},
   "source": [
    "## 4.1 Generate the unitary $U_{\\text{mystery}} = e^{i\\theta (X\\otimes X)}$ for $\\theta = \\pi/3$.\n",
    "Hint: use https://qiskit.org/documentation/stubs/qiskit.circuit.library.PauliEvolutionGate.html "
   ]
  },
  {
   "cell_type": "code",
   "execution_count": null,
   "id": "179b726b-92c0-4ac3-8ff6-6df7b40c04d9",
   "metadata": {},
   "outputs": [
    {
     "name": "stdout",
     "output_type": "stream",
     "text": [
      "     ┌─────────────────┐\n",
      "q_0: ┤0                ├\n",
      "     │  exp(-it XX)(1) │\n",
      "q_1: ┤1                ├\n",
      "     └─────────────────┘\n"
     ]
    }
   ],
   "source": [
    "from qiskit.circuit import QuantumCircuit\n",
    "from qiskit.circuit.library import PauliEvolutionGate\n",
    "from qiskit.opflow import I, Z, X\n",
    "from numpy import pi\n",
    " \n",
    "# build the evolution gate\n",
    "operator = pi/3 * (X ^ X)\n",
    "evo = PauliEvolutionGate(operator)\n",
    " \n",
    "# plug it into a circuit\n",
    "circuit = QuantumCircuit(2)\n",
    "circuit.append(evo, range(2))\n",
    "print(circuit.draw())\n",
    "\n",
    "# the -i should be just i"
   ]
  },
  {
   "cell_type": "markdown",
   "id": "62c81645-601a-4a05-864e-6683109584b0",
   "metadata": {},
   "source": [
    "## 4.2 Vary $\\theta$ from 0 to $\\pi/2$. For each value, generate the estimation circuit for the real part of the trace of $U_{\\text{mystery}}$.\n",
    "Run your circuit using the Qiskit simulator. Make a plot: on the x-axis: $\\theta$ from 0 to $\\pi/2$, and on the y-axis: your obtained estimate for $\\theta$ . "
   ]
  },
  {
   "cell_type": "code",
   "execution_count": null,
   "id": "07216d6f-9111-4888-adc5-35a0d8e67a22",
   "metadata": {},
   "outputs": [],
   "source": [
    "# your code goes here"
   ]
  },
  {
   "cell_type": "markdown",
   "id": "0afb8655",
   "metadata": {},
   "source": [
    "## 5.3 Take the circuit generated in 3.1. For different values of $k$, run the trace estimation circuit $k$ number of shots and compute 1) the single value estimate of the real part of the trace of U and 2) the CI you got in the exercise 5.2 at level $95\\%$\n",
    "\n"
   ]
  },
  {
   "cell_type": "code",
   "execution_count": null,
   "id": "fa047db9",
   "metadata": {},
   "outputs": [],
   "source": [
    "# your code goes here"
   ]
  },
  {
   "cell_type": "markdown",
   "id": "e393e5d9",
   "metadata": {},
   "source": [
    "## Plot the true real part of the trace, the single-value estimate of it, and the CI against $k$. \n",
    "\n",
    "For drawing CIs, you can use https://matplotlib.org/stable/api/_as_gen/matplotlib.pyplot.fill_between.html"
   ]
  },
  {
   "cell_type": "code",
   "execution_count": null,
   "id": "ed1b0645",
   "metadata": {},
   "outputs": [],
   "source": [
    "# your code goes here"
   ]
  }
 ],
 "metadata": {
  "kernelspec": {
   "display_name": "Python 3 (ipykernel)",
   "language": "python",
   "name": "python3"
  },
  "language_info": {
   "codemirror_mode": {
    "name": "ipython",
    "version": 3
   },
   "file_extension": ".py",
   "mimetype": "text/x-python",
   "name": "python",
   "nbconvert_exporter": "python",
   "pygments_lexer": "ipython3",
   "version": "3.11.5"
  },
  "widgets": {
   "application/vnd.jupyter.widget-state+json": {
    "state": {
     "1490472bc6db46788f95d652b39d8c7f": {
      "model_module": "@jupyter-widgets/controls",
      "model_module_version": "2.0.0",
      "model_name": "HTMLStyleModel",
      "state": {
       "description_width": "",
       "font_size": null,
       "text_color": null
      }
     },
     "1e4554b3471d47798f880c03cb807f6b": {
      "model_module": "@jupyter-widgets/controls",
      "model_module_version": "2.0.0",
      "model_name": "GridBoxModel",
      "state": {
       "children": [
        "IPY_MODEL_86316ad1f2294b4d925d8e8e68c6ffc6"
       ],
       "layout": "IPY_MODEL_cf7739bcdb95459b9e3b67d5707cd321"
      }
     },
     "20104c2fd40d438fa4794df0bf61c410": {
      "model_module": "@jupyter-widgets/controls",
      "model_module_version": "2.0.0",
      "model_name": "HTMLStyleModel",
      "state": {
       "description_width": "",
       "font_size": null,
       "text_color": null
      }
     },
     "259590e3dfea483daa9475d5ee587e23": {
      "model_module": "@jupyter-widgets/controls",
      "model_module_version": "2.0.0",
      "model_name": "HTMLModel",
      "state": {
       "layout": "IPY_MODEL_4cc0f5cafd4846128f9a4e5ffa408bec",
       "style": "IPY_MODEL_1490472bc6db46788f95d652b39d8c7f",
       "value": "<h5>Message</h5>"
      }
     },
     "469ad8f29a3546069539b009e6fe35f1": {
      "model_module": "@jupyter-widgets/controls",
      "model_module_version": "2.0.0",
      "model_name": "HTMLModel",
      "state": {
       "layout": "IPY_MODEL_64bc8570aff24e95a07eda644461c83d",
       "style": "IPY_MODEL_527b59dccca74d26bd9685697e5d4135",
       "value": "<h5>Queue</h5>"
      }
     },
     "4cc0f5cafd4846128f9a4e5ffa408bec": {
      "model_module": "@jupyter-widgets/base",
      "model_module_version": "2.0.0",
      "model_name": "LayoutModel",
      "state": {}
     },
     "4f39d99023bb43bcbd520be3e4278e36": {
      "model_module": "@jupyter-widgets/base",
      "model_module_version": "2.0.0",
      "model_name": "LayoutModel",
      "state": {
       "margin": "0px 0px 0px 37px",
       "width": "600px"
      }
     },
     "527b59dccca74d26bd9685697e5d4135": {
      "model_module": "@jupyter-widgets/controls",
      "model_module_version": "2.0.0",
      "model_name": "HTMLStyleModel",
      "state": {
       "description_width": "",
       "font_size": null,
       "text_color": null
      }
     },
     "55b84c0cb04247fe88275f0f92da8b01": {
      "model_module": "@jupyter-widgets/base",
      "model_module_version": "2.0.0",
      "model_name": "LayoutModel",
      "state": {
       "margin": "0px 0px 10px 0px"
      }
     },
     "6344d98834774cce9f9ab596950587ba": {
      "model_module": "@jupyter-widgets/controls",
      "model_module_version": "2.0.0",
      "model_name": "ButtonStyleModel",
      "state": {
       "font_family": null,
       "font_size": null,
       "font_style": null,
       "font_variant": null,
       "font_weight": null,
       "text_color": null,
       "text_decoration": null
      }
     },
     "64bc8570aff24e95a07eda644461c83d": {
      "model_module": "@jupyter-widgets/base",
      "model_module_version": "2.0.0",
      "model_name": "LayoutModel",
      "state": {
       "width": "70px"
      }
     },
     "743aaeb94c0d490496f774ace6352860": {
      "model_module": "@jupyter-widgets/controls",
      "model_module_version": "2.0.0",
      "model_name": "HTMLModel",
      "state": {
       "layout": "IPY_MODEL_80523029fb80414f9d1ca17a360e26e5",
       "style": "IPY_MODEL_7eb66c88acf54d01ae6d035ad697568d",
       "value": "<h5>Backend</h5>"
      }
     },
     "7eb66c88acf54d01ae6d035ad697568d": {
      "model_module": "@jupyter-widgets/controls",
      "model_module_version": "2.0.0",
      "model_name": "HTMLStyleModel",
      "state": {
       "description_width": "",
       "font_size": null,
       "text_color": null
      }
     },
     "80523029fb80414f9d1ca17a360e26e5": {
      "model_module": "@jupyter-widgets/base",
      "model_module_version": "2.0.0",
      "model_name": "LayoutModel",
      "state": {
       "width": "145px"
      }
     },
     "84f646e8a80042eea1fe54764eb03972": {
      "model_module": "@jupyter-widgets/controls",
      "model_module_version": "2.0.0",
      "model_name": "HTMLModel",
      "state": {
       "layout": "IPY_MODEL_d6695178a6fe48fcbacb231b89e206a8",
       "style": "IPY_MODEL_20104c2fd40d438fa4794df0bf61c410",
       "value": "<h5>Status</h5>"
      }
     },
     "86316ad1f2294b4d925d8e8e68c6ffc6": {
      "model_module": "@jupyter-widgets/controls",
      "model_module_version": "2.0.0",
      "model_name": "ButtonModel",
      "state": {
       "button_style": "primary",
       "description": "Clear",
       "layout": "IPY_MODEL_c9ad29b758c1458cbc0e573cd52cbf23",
       "style": "IPY_MODEL_6344d98834774cce9f9ab596950587ba",
       "tooltip": null
      }
     },
     "a8f5be3bc05e49c48023628e841c7653": {
      "model_module": "@jupyter-widgets/base",
      "model_module_version": "2.0.0",
      "model_name": "LayoutModel",
      "state": {
       "width": "190px"
      }
     },
     "b9abf17bea82424b865d243b89ba92fa": {
      "model_module": "@jupyter-widgets/controls",
      "model_module_version": "2.0.0",
      "model_name": "HTMLStyleModel",
      "state": {
       "description_width": "",
       "font_size": null,
       "text_color": null
      }
     },
     "bd69b4eb7bf64515a26a331c5fd7dd57": {
      "model_module": "@jupyter-widgets/controls",
      "model_module_version": "2.0.0",
      "model_name": "HTMLStyleModel",
      "state": {
       "description_width": "",
       "font_size": null,
       "text_color": null
      }
     },
     "c9ad29b758c1458cbc0e573cd52cbf23": {
      "model_module": "@jupyter-widgets/base",
      "model_module_version": "2.0.0",
      "model_name": "LayoutModel",
      "state": {
       "grid_area": "right",
       "padding": "0px 0px 0px 0px",
       "width": "70px"
      }
     },
     "ce721052c60141b5bd8ccf342324c1d3": {
      "model_module": "@jupyter-widgets/controls",
      "model_module_version": "2.0.0",
      "model_name": "HTMLModel",
      "state": {
       "layout": "IPY_MODEL_55b84c0cb04247fe88275f0f92da8b01",
       "style": "IPY_MODEL_b9abf17bea82424b865d243b89ba92fa",
       "value": "<p style='font-family: IBM Plex Sans, Arial, Helvetica, sans-serif; font-size: 20px; font-weight: medium;'>Circuit Properties</p>"
      }
     },
     "cf7739bcdb95459b9e3b67d5707cd321": {
      "model_module": "@jupyter-widgets/base",
      "model_module_version": "2.0.0",
      "model_name": "LayoutModel",
      "state": {
       "grid_template_areas": "\n                                       \". . . . right \"\n                                        ",
       "grid_template_columns": "20% 20% 20% 20% 20%",
       "width": "100%"
      }
     },
     "d6695178a6fe48fcbacb231b89e206a8": {
      "model_module": "@jupyter-widgets/base",
      "model_module_version": "2.0.0",
      "model_name": "LayoutModel",
      "state": {
       "width": "95px"
      }
     },
     "eb130992913c41ccaba081527afb0738": {
      "model_module": "@jupyter-widgets/controls",
      "model_module_version": "2.0.0",
      "model_name": "HBoxModel",
      "state": {
       "children": [
        "IPY_MODEL_f65822b2c4ef4e9bbcb4e012edfb4856",
        "IPY_MODEL_743aaeb94c0d490496f774ace6352860",
        "IPY_MODEL_84f646e8a80042eea1fe54764eb03972",
        "IPY_MODEL_469ad8f29a3546069539b009e6fe35f1",
        "IPY_MODEL_259590e3dfea483daa9475d5ee587e23"
       ],
       "layout": "IPY_MODEL_4f39d99023bb43bcbd520be3e4278e36"
      }
     },
     "f65822b2c4ef4e9bbcb4e012edfb4856": {
      "model_module": "@jupyter-widgets/controls",
      "model_module_version": "2.0.0",
      "model_name": "HTMLModel",
      "state": {
       "layout": "IPY_MODEL_a8f5be3bc05e49c48023628e841c7653",
       "style": "IPY_MODEL_bd69b4eb7bf64515a26a331c5fd7dd57",
       "value": "<h5>Job ID</h5>"
      }
     }
    },
    "version_major": 2,
    "version_minor": 0
   }
  }
 },
 "nbformat": 4,
 "nbformat_minor": 5
}
